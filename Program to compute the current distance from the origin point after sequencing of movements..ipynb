{
 "cells": [
  {
   "cell_type": "markdown",
   "id": "191b8b51",
   "metadata": {},
   "source": [
    "# LEFT, and RIGHT. The trace of Robot movement is as given following:UP 5 DOWN 3 LEFT 3 RIGHT 2 (The numbers after directions are steps) Write a program to compute the current distance from the origin point after sequencing of movements."
   ]
  },
  {
   "cell_type": "markdown",
   "id": "c0c5f08c",
   "metadata": {},
   "source": [
    "Here we use math module to calculate the distance from the origin point to the current point using the concept of Hypotenuse theorem."
   ]
  },
  {
   "cell_type": "code",
   "execution_count": 1,
   "id": "95ee0f18",
   "metadata": {},
   "outputs": [
    {
     "name": "stdout",
     "output_type": "stream",
     "text": [
      "Program to compute the current distance from the origin point after sequencing of movements.\n",
      "\t* Enter none to end\n",
      "\t* Use the format:[UP/DOWN/LEFT/RIGHT number_of_steps]\n",
      "\t* For example: UP 10\n",
      "Enter number of steps after specifying your direction :UP 5\n",
      "Enter number of steps after specifying your direction :DOWN 3\n",
      "Enter number of steps after specifying your direction :LEFT 3\n",
      "Enter number of steps after specifying your direction :RIGHT 2\n",
      "Enter number of steps after specifying your direction :\n",
      "Current distance from the origin point = 2\n"
     ]
    }
   ],
   "source": [
    "print('Program to compute the current distance from the origin point after sequencing of movements.\\n\\t* Enter none to end\\n\\t* Use the format:[UP/DOWN/LEFT/RIGHT number_of_steps]\\n\\t* For example: UP 10')\n",
    "import math\n",
    "a = [0,0]\n",
    "while True:\n",
    "    s = input(\"Enter number of steps after specifying your direction :\")\n",
    "    if not s:\n",
    "        break\n",
    "    else:\n",
    "        movement = s.split(\" \")\n",
    "        dir = movement[0]\n",
    "        steps = int(movement[1])\n",
    "        if dir==\"UP\":\n",
    "            a[0]+=steps\n",
    "        elif dir==\"DOWN\":\n",
    "            a[0]-=steps\n",
    "        elif dir==\"LEFT\":\n",
    "            a[1]-=steps\n",
    "        elif dir==\"RIGHT\":\n",
    "            a[1]+=steps\n",
    "        else:\n",
    "            pass\n",
    "print(\"Current distance from the origin point =\",int(round(math.sqrt(a[1]**2+a[0]**2))))"
   ]
  },
  {
   "cell_type": "code",
   "execution_count": null,
   "id": "7a8fbeab",
   "metadata": {},
   "outputs": [],
   "source": []
  }
 ],
 "metadata": {
  "kernelspec": {
   "display_name": "Python 3 (ipykernel)",
   "language": "python",
   "name": "python3"
  },
  "language_info": {
   "codemirror_mode": {
    "name": "ipython",
    "version": 3
   },
   "file_extension": ".py",
   "mimetype": "text/x-python",
   "name": "python",
   "nbconvert_exporter": "python",
   "pygments_lexer": "ipython3",
   "version": "3.9.12"
  }
 },
 "nbformat": 4,
 "nbformat_minor": 5
}
